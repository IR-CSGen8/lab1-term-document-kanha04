{
 "cells": [
  {
   "cell_type": "code",
   "execution_count": 1,
   "id": "c64dd556-b03e-48b2-8ebc-61d6c1a57c67",
   "metadata": {},
   "outputs": [
    {
     "data": {
      "text/html": [
       "<div>\n",
       "<style scoped>\n",
       "    .dataframe tbody tr th:only-of-type {\n",
       "        vertical-align: middle;\n",
       "    }\n",
       "\n",
       "    .dataframe tbody tr th {\n",
       "        vertical-align: top;\n",
       "    }\n",
       "\n",
       "    .dataframe thead th {\n",
       "        text-align: right;\n",
       "    }\n",
       "</style>\n",
       "<table border=\"1\" class=\"dataframe\">\n",
       "  <thead>\n",
       "    <tr style=\"text-align: right;\">\n",
       "      <th></th>\n",
       "      <th>0</th>\n",
       "      <th>1</th>\n",
       "    </tr>\n",
       "  </thead>\n",
       "  <tbody>\n",
       "    <tr>\n",
       "      <th>0</th>\n",
       "      <td>Document 1</td>\n",
       "      <td>This is the first document. It contains some w...</td>\n",
       "    </tr>\n",
       "    <tr>\n",
       "      <th>1</th>\n",
       "      <td>Document 2</td>\n",
       "      <td>The second document is a bit longer and has di...</td>\n",
       "    </tr>\n",
       "    <tr>\n",
       "      <th>2</th>\n",
       "      <td>Document 3</td>\n",
       "      <td>The third document is short. Short documents c...</td>\n",
       "    </tr>\n",
       "  </tbody>\n",
       "</table>\n",
       "</div>"
      ],
      "text/plain": [
       "            0                                                  1\n",
       "0  Document 1  This is the first document. It contains some w...\n",
       "1  Document 2  The second document is a bit longer and has di...\n",
       "2  Document 3  The third document is short. Short documents c..."
      ]
     },
     "execution_count": 1,
     "metadata": {},
     "output_type": "execute_result"
    }
   ],
   "source": [
    "import pandas as pd\n",
    "df = pd.read_csv(r'C:\\OneDrive\\Desktop\\Data science\\Term 6 course\\Information Web Retrieval Analytics\\lab1.csv', header = None)\n",
    "df"
   ]
  },
  {
   "cell_type": "code",
   "execution_count": 2,
   "id": "1e0aa6c4-15e0-470c-8bb5-cf36eb20a554",
   "metadata": {},
   "outputs": [
    {
     "data": {
      "text/plain": [
       "['Document 1', 'Document 2', 'Document 3']"
      ]
     },
     "execution_count": 2,
     "metadata": {},
     "output_type": "execute_result"
    }
   ],
   "source": [
    "key_document = df[0].values.tolist()\n",
    "key_document"
   ]
  },
  {
   "cell_type": "code",
   "execution_count": 3,
   "id": "ed9bcddb-61fb-4ff3-adb7-a86c76e02b01",
   "metadata": {},
   "outputs": [
    {
     "data": {
      "text/plain": [
       "['This is the first document. It contains some words.',\n",
       " 'The second document is a bit longer and has different words.',\n",
       " 'The third document is short. Short documents can be concise.']"
      ]
     },
     "execution_count": 3,
     "metadata": {},
     "output_type": "execute_result"
    }
   ],
   "source": [
    "document_content_list = df.iloc[:,1].values.tolist()\n",
    "document_content_list"
   ]
  },
  {
   "cell_type": "code",
   "execution_count": 4,
   "id": "babf2fc0-6d05-4933-80bb-3c27306e3d9b",
   "metadata": {},
   "outputs": [
    {
     "data": {
      "text/plain": [
       "{'It',\n",
       " 'Short',\n",
       " 'The',\n",
       " 'This',\n",
       " 'a',\n",
       " 'and',\n",
       " 'be',\n",
       " 'bit',\n",
       " 'can',\n",
       " 'concise.',\n",
       " 'contains',\n",
       " 'different',\n",
       " 'document',\n",
       " 'document.',\n",
       " 'documents',\n",
       " 'first',\n",
       " 'has',\n",
       " 'is',\n",
       " 'longer',\n",
       " 'second',\n",
       " 'short.',\n",
       " 'some',\n",
       " 'the',\n",
       " 'third',\n",
       " 'words.'}"
      ]
     },
     "execution_count": 4,
     "metadata": {},
     "output_type": "execute_result"
    }
   ],
   "source": [
    "unique_terms = {term for doc in document_content_list for term in doc.split()}\n",
    "unique_terms"
   ]
  },
  {
   "cell_type": "code",
   "execution_count": 5,
   "id": "a35e0a84-ff45-4977-b889-4a6348ca1d02",
   "metadata": {},
   "outputs": [
    {
     "data": {
      "text/plain": [
       "{'some': [1, 0, 0],\n",
       " 'be': [0, 0, 1],\n",
       " 'short.': [0, 0, 1],\n",
       " 'a': [1, 1, 1],\n",
       " 'different': [0, 1, 0],\n",
       " 'This': [1, 0, 0],\n",
       " 'and': [0, 1, 0],\n",
       " 'It': [1, 0, 0],\n",
       " 'document.': [1, 0, 0],\n",
       " 'documents': [0, 0, 1],\n",
       " 'The': [0, 1, 1],\n",
       " 'the': [1, 0, 0],\n",
       " 'third': [0, 0, 1],\n",
       " 'document': [1, 1, 1],\n",
       " 'concise.': [0, 0, 1],\n",
       " 'longer': [0, 1, 0],\n",
       " 'contains': [1, 0, 0],\n",
       " 'has': [0, 1, 0],\n",
       " 'is': [1, 1, 1],\n",
       " 'bit': [0, 1, 0],\n",
       " 'Short': [0, 0, 1],\n",
       " 'can': [0, 0, 1],\n",
       " 'words.': [1, 1, 0],\n",
       " 'first': [1, 0, 0],\n",
       " 'second': [0, 1, 0]}"
      ]
     },
     "execution_count": 5,
     "metadata": {},
     "output_type": "execute_result"
    }
   ],
   "source": [
    "# create a matrix for the document by using the unique term\n",
    "doc_term_matrix = {}\n",
    "# your code here\n",
    "for term in unique_terms:\n",
    "    doc_term_matrix[term] = []\n",
    "    for document in document_content_list:\n",
    "        if term in document:\n",
    "            doc_term_matrix[term].append(1)\n",
    "        else: doc_term_matrix[term].append(0)\n",
    "# display the result of the matrix\n",
    "doc_term_matrix"
   ]
  },
  {
   "cell_type": "code",
   "execution_count": 6,
   "id": "5a4b6cf1-c346-454c-8db1-2700bfeaaba5",
   "metadata": {},
   "outputs": [
    {
     "name": "stdout",
     "output_type": "stream",
     "text": [
      "<IntegerArray>\n",
      "[1, 0, 0]\n",
      "Length: 3, dtype: Int64\n",
      "<IntegerArray>\n",
      "[0, 0, 1]\n",
      "Length: 3, dtype: Int64\n",
      "-------\n"
     ]
    },
    {
     "data": {
      "text/plain": [
       "[]"
      ]
     },
     "execution_count": 6,
     "metadata": {},
     "output_type": "execute_result"
    }
   ],
   "source": [
    "docs_array = pd.array(document_content_list, dtype='object')\n",
    "\n",
    "v1 = pd.array(doc_term_matrix['first'])    \n",
    "v2 = pd.array(doc_term_matrix['documents'])\n",
    "\n",
    "print(v1)\n",
    "print(v2)\n",
    "print('-------')\n",
    "\n",
    "# find the documents that have both terms from v1 and v2\n",
    "v3 = v1 & v2\n",
    "\n",
    "v3\n",
    "\n",
    "# display the content document from the result\n",
    "[document for document in v3 * docs_array if document]"
   ]
  },
  {
   "cell_type": "code",
   "execution_count": 7,
   "id": "7b13a82c-97aa-4e0a-b4ad-619224585a06",
   "metadata": {},
   "outputs": [
    {
     "name": "stdout",
     "output_type": "stream",
     "text": [
      "<IntegerArray>\n",
      "[1, 0, 1]\n",
      "Length: 3, dtype: Int64\n"
     ]
    },
    {
     "data": {
      "text/plain": [
       "['This is the first document. It contains some words.',\n",
       " 'The third document is short. Short documents can be concise.']"
      ]
     },
     "execution_count": 7,
     "metadata": {},
     "output_type": "execute_result"
    }
   ],
   "source": [
    "v3 = v1 | v2\n",
    "print(v3)\n",
    "[document for document in v3 * docs_array if document]"
   ]
  },
  {
   "cell_type": "code",
   "execution_count": 8,
   "id": "8723d114-a4f0-4794-8806-90d21e90804e",
   "metadata": {},
   "outputs": [
    {
     "name": "stdout",
     "output_type": "stream",
     "text": [
      "CSV file 'unique_terms.csv' File has been created and store successfully.\n"
     ]
    }
   ],
   "source": [
    "import csv\n",
    "csv_file = \"unique_terms.csv\"\n",
    "with open(csv_file, mode='w', newline='') as file:\n",
    "    writer = csv.writer(file)\n",
    "    writer.writerows([[term] for term in unique_terms])\n",
    "\n",
    "print(f\"CSV file '{csv_file}' File has been created and store successfully.\")"
   ]
  },
  {
   "cell_type": "code",
   "execution_count": null,
   "id": "8490ab35-8c0f-408f-a868-64505253ce2a",
   "metadata": {},
   "outputs": [],
   "source": []
  },
  {
   "cell_type": "code",
   "execution_count": null,
   "id": "1af91fa3-c164-4344-8f7b-7ff1c8379137",
   "metadata": {},
   "outputs": [],
   "source": []
  }
 ],
 "metadata": {
  "kernelspec": {
   "display_name": "Python 3 (ipykernel)",
   "language": "python",
   "name": "python3"
  },
  "language_info": {
   "codemirror_mode": {
    "name": "ipython",
    "version": 3
   },
   "file_extension": ".py",
   "mimetype": "text/x-python",
   "name": "python",
   "nbconvert_exporter": "python",
   "pygments_lexer": "ipython3",
   "version": "3.11.4"
  }
 },
 "nbformat": 4,
 "nbformat_minor": 5
}
